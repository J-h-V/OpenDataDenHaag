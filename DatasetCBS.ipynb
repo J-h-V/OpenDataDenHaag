{
 "cells": [
  {
   "cell_type": "code",
   "execution_count": 1,
   "metadata": {},
   "outputs": [],
   "source": [
    "# import necessary packages\n",
    "import os\n",
    "import matplotlib.pyplot as plt\n",
    "import geopandas as gpd\n",
    "from descartes import PolygonPatch\n",
    "import pandas as pd\n",
    "import numpy as np\n",
    "import seaborn as sns\n",
    "import cbsodata\n",
    "\n",
    "#load the data from CBS, this might take a while..\n",
    "#Taking the DBs from 2015 onwards, since 2014 and prior used a different format..\n",
    "buurt_data_15 = pd.DataFrame(cbsodata.get_data(\"83220NED\"))\n",
    "buurt_data_16 = pd.DataFrame(cbsodata.get_data(\"83487NED\"))\n",
    "buurt_data_17 = pd.DataFrame(cbsodata.get_data(\"83765NED\"))\n",
    "buurt_data_18 = pd.DataFrame(cbsodata.get_data(\"84286NED\"))\n",
    "buurt_data_19 = pd.DataFrame(cbsodata.get_data(\"84583NED\"))\n",
    "education_17 = pd.read_csv(\"data/education17.csv\",sep=\";\",decimal=\",\")"
   ]
  },
  {
   "cell_type": "code",
   "execution_count": 2,
   "metadata": {},
   "outputs": [],
   "source": [
    "dh_buurt_data_15 = buurt_data_15[(buurt_data_15[\"Gemeentenaam_1\"]==\"'s-Gravenhage                           \") & (buurt_data_15[\"SoortRegio_2\"]==\"Buurt     \")]\n",
    "dh_buurt_data_16 = buurt_data_16[(buurt_data_16[\"Gemeentenaam_1\"]==\"'s-Gravenhage                           \") & (buurt_data_16[\"SoortRegio_2\"]==\"Buurt     \")]\n",
    "dh_buurt_data_17 = buurt_data_17[(buurt_data_17[\"Gemeentenaam_1\"]==\"'s-Gravenhage                           \") & (buurt_data_17[\"SoortRegio_2\"]==\"Buurt     \")]\n",
    "dh_buurt_data_18 = buurt_data_18[(buurt_data_18[\"Gemeentenaam_1\"]==\"'s-Gravenhage                           \") & (buurt_data_18[\"SoortRegio_2\"]==\"Buurt     \")]\n",
    "dh_buurt_data_19 = buurt_data_19[(buurt_data_19[\"Gemeentenaam_1\"]==\"'s-Gravenhage                           \") & (buurt_data_19[\"SoortRegio_2\"]==\"Buurt     \")]"
   ]
  },
  {
   "cell_type": "code",
   "execution_count": 18,
   "metadata": {},
   "outputs": [
    {
     "data": {
      "text/html": [
       "<div>\n",
       "<style scoped>\n",
       "    .dataframe tbody tr th:only-of-type {\n",
       "        vertical-align: middle;\n",
       "    }\n",
       "\n",
       "    .dataframe tbody tr th {\n",
       "        vertical-align: top;\n",
       "    }\n",
       "\n",
       "    .dataframe thead th {\n",
       "        text-align: right;\n",
       "    }\n",
       "</style>\n",
       "<table border=\"1\" class=\"dataframe\">\n",
       "  <thead>\n",
       "    <tr style=\"text-align: right;\">\n",
       "      <th></th>\n",
       "      <th>Wijk</th>\n",
       "      <th>Wijkcode</th>\n",
       "      <th>Buurt</th>\n",
       "      <th>Buurtcode</th>\n",
       "      <th>bevolking</th>\n",
       "      <th>dekkingsgraad</th>\n",
       "      <th>Laag</th>\n",
       "      <th>RSF_Laag</th>\n",
       "      <th>Middelbaar</th>\n",
       "      <th>RSF_Middelbaar</th>\n",
       "      <th>Hoog</th>\n",
       "      <th>RSF_Hoog</th>\n",
       "    </tr>\n",
       "  </thead>\n",
       "  <tbody>\n",
       "    <tr>\n",
       "      <th>0</th>\n",
       "      <td>NaN</td>\n",
       "      <td>NaN</td>\n",
       "      <td>NaN</td>\n",
       "      <td>NaN</td>\n",
       "      <td>405985</td>\n",
       "      <td>68.0</td>\n",
       "      <td>32.7</td>\n",
       "      <td>1.5</td>\n",
       "      <td>35.8</td>\n",
       "      <td>1.2</td>\n",
       "      <td>31.4</td>\n",
       "      <td>1.7</td>\n",
       "    </tr>\n",
       "    <tr>\n",
       "      <th>1</th>\n",
       "      <td>Wijk 01 Oostduinen                            ...</td>\n",
       "      <td>1.0</td>\n",
       "      <td>NaN</td>\n",
       "      <td>NaN</td>\n",
       "      <td>0</td>\n",
       "      <td>0.0</td>\n",
       "      <td>0.0</td>\n",
       "      <td>0.0</td>\n",
       "      <td>0.0</td>\n",
       "      <td>0.0</td>\n",
       "      <td>0.0</td>\n",
       "      <td>0.0</td>\n",
       "    </tr>\n",
       "    <tr>\n",
       "      <th>2</th>\n",
       "      <td>NaN</td>\n",
       "      <td>1.0</td>\n",
       "      <td>Oostduinen                                    ...</td>\n",
       "      <td>70.0</td>\n",
       "      <td>0</td>\n",
       "      <td>0.0</td>\n",
       "      <td>0.0</td>\n",
       "      <td>0.0</td>\n",
       "      <td>0.0</td>\n",
       "      <td>0.0</td>\n",
       "      <td>0.0</td>\n",
       "      <td>0.0</td>\n",
       "    </tr>\n",
       "    <tr>\n",
       "      <th>3</th>\n",
       "      <td>Wijk 02 Belgisch Park                         ...</td>\n",
       "      <td>2.0</td>\n",
       "      <td>NaN</td>\n",
       "      <td>NaN</td>\n",
       "      <td>6295</td>\n",
       "      <td>60.5</td>\n",
       "      <td>17.1</td>\n",
       "      <td>7.3</td>\n",
       "      <td>37.5</td>\n",
       "      <td>6.3</td>\n",
       "      <td>45.4</td>\n",
       "      <td>5.6</td>\n",
       "    </tr>\n",
       "    <tr>\n",
       "      <th>4</th>\n",
       "      <td>NaN</td>\n",
       "      <td>2.0</td>\n",
       "      <td>Belgisch Park                                 ...</td>\n",
       "      <td>71.0</td>\n",
       "      <td>6295</td>\n",
       "      <td>60.5</td>\n",
       "      <td>17.1</td>\n",
       "      <td>7.3</td>\n",
       "      <td>37.5</td>\n",
       "      <td>6.3</td>\n",
       "      <td>45.4</td>\n",
       "      <td>5.6</td>\n",
       "    </tr>\n",
       "  </tbody>\n",
       "</table>\n",
       "</div>"
      ],
      "text/plain": [
       "                                                Wijk  Wijkcode  \\\n",
       "0                                                NaN       NaN   \n",
       "1  Wijk 01 Oostduinen                            ...       1.0   \n",
       "2                                                NaN       1.0   \n",
       "3  Wijk 02 Belgisch Park                         ...       2.0   \n",
       "4                                                NaN       2.0   \n",
       "\n",
       "                                               Buurt  Buurtcode  bevolking  \\\n",
       "0                                                NaN        NaN     405985   \n",
       "1                                                NaN        NaN          0   \n",
       "2  Oostduinen                                    ...       70.0          0   \n",
       "3                                                NaN        NaN       6295   \n",
       "4  Belgisch Park                                 ...       71.0       6295   \n",
       "\n",
       "   dekkingsgraad  Laag  RSF_Laag  Middelbaar  RSF_Middelbaar  Hoog  RSF_Hoog  \n",
       "0           68.0  32.7       1.5        35.8             1.2  31.4       1.7  \n",
       "1            0.0   0.0       0.0         0.0             0.0   0.0       0.0  \n",
       "2            0.0   0.0       0.0         0.0             0.0   0.0       0.0  \n",
       "3           60.5  17.1       7.3        37.5             6.3  45.4       5.6  \n",
       "4           60.5  17.1       7.3        37.5             6.3  45.4       5.6  "
      ]
     },
     "execution_count": 18,
     "metadata": {},
     "output_type": "execute_result"
    }
   ],
   "source": [
    "education_17.head(5)"
   ]
  },
  {
   "cell_type": "code",
   "execution_count": 4,
   "metadata": {},
   "outputs": [],
   "source": [
    "citizens_dh_15 = dh_buurt_data_15[['WijkenEnBuurten','AantalInwoners_5','WestersTotaal_17','Marokko_19','NederlandseAntillenEnAruba_20','Suriname_21','Turkije_22','OverigNietWesters_23']].rename(columns={'WijkenEnBuurten':'buurtname','AantalInwoners_5':'total_citizens','WestersTotaal_17':'total_western','Marokko_19':'morocco','NederlandseAntillenEnAruba_20':'antilles','Suriname_21':'suriname','Turkije_22':'turkey','OverigNietWesters_23':'other_non_western'}, errors=\"raise\").set_index(\"buurtname\")\n",
    "citizens_dh_16 = dh_buurt_data_16[['WijkenEnBuurten','AantalInwoners_5','WestersTotaal_17','Marokko_19','NederlandseAntillenEnAruba_20','Suriname_21','Turkije_22','OverigNietWesters_23']].rename(columns={'WijkenEnBuurten':'buurtname','AantalInwoners_5':'total_citizens','WestersTotaal_17':'total_western','Marokko_19':'morocco','NederlandseAntillenEnAruba_20':'antilles','Suriname_21':'suriname','Turkije_22':'turkey','OverigNietWesters_23':'other_non_western'}, errors=\"raise\").set_index(\"buurtname\")\n",
    "citizens_dh_17 = dh_buurt_data_17[['WijkenEnBuurten','AantalInwoners_5','WestersTotaal_17','Marokko_19','NederlandseAntillenEnAruba_20','Suriname_21','Turkije_22','OverigNietWesters_23']].rename(columns={'WijkenEnBuurten':'buurtname','AantalInwoners_5':'total_citizens','WestersTotaal_17':'total_western','Marokko_19':'morocco','NederlandseAntillenEnAruba_20':'antilles','Suriname_21':'suriname','Turkije_22':'turkey','OverigNietWesters_23':'other_non_western'}, errors=\"raise\").set_index(\"buurtname\")\n",
    "citizens_dh_18 = dh_buurt_data_18[['WijkenEnBuurten','AantalInwoners_5','WestersTotaal_17','Marokko_19','NederlandseAntillenEnAruba_20','Suriname_21','Turkije_22','OverigNietWesters_23']].rename(columns={'WijkenEnBuurten':'buurtname','AantalInwoners_5':'total_citizens','WestersTotaal_17':'total_western','Marokko_19':'morocco','NederlandseAntillenEnAruba_20':'antilles','Suriname_21':'suriname','Turkije_22':'turkey','OverigNietWesters_23':'other_non_western'}, errors=\"raise\").set_index(\"buurtname\")\n",
    "citizens_dh_19 = dh_buurt_data_19[['WijkenEnBuurten','AantalInwoners_5','WestersTotaal_17','Marokko_19','NederlandseAntillenEnAruba_20','Suriname_21','Turkije_22','OverigNietWesters_23']].rename(columns={'WijkenEnBuurten':'buurtname','AantalInwoners_5':'total_citizens','WestersTotaal_17':'total_western','Marokko_19':'morocco','NederlandseAntillenEnAruba_20':'antilles','Suriname_21':'suriname','Turkije_22':'turkey','OverigNietWesters_23':'other_non_western'}, errors=\"raise\").set_index(\"buurtname\")"
   ]
  },
  {
   "cell_type": "code",
   "execution_count": 5,
   "metadata": {},
   "outputs": [],
   "source": [
    "total_citizens = pd.DataFrame()\n",
    "total_citizens[\"2015\"] = citizens_dh_15[\"total_citizens\"]\n",
    "total_citizens[\"2016\"] = citizens_dh_16[\"total_citizens\"]\n",
    "total_citizens[\"2017\"] = citizens_dh_17[\"total_citizens\"]\n",
    "total_citizens[\"2018\"] = citizens_dh_18[\"total_citizens\"]\n",
    "total_citizens[\"2019\"] = citizens_dh_19[\"total_citizens\"]"
   ]
  },
  {
   "cell_type": "code",
   "execution_count": 6,
   "metadata": {},
   "outputs": [
    {
     "data": {
      "text/plain": [
       "<matplotlib.axes._subplots.AxesSubplot at 0x1908eebcf48>"
      ]
     },
     "execution_count": 6,
     "metadata": {},
     "output_type": "execute_result"
    },
    {
     "data": {
      "image/png": "[encoded data removed]",
      "text/plain": [
       "<Figure size 432x288 with 1 Axes>"
      ]
     },
     "metadata": {
      "needs_background": "light"
     },
     "output_type": "display_data"
    }
   ],
   "source": [
    "total_citizens.sum().plot()"
   ]
  },
  {
   "cell_type": "code",
   "execution_count": 15,
   "metadata": {},
   "outputs": [],
   "source": [
    "wes_citizens = pd.DataFrame()\n",
    "wes_citizens[\"2015\"] = citizens_dh_15[\"total_western\"]\n",
    "wes_citizens[\"2016\"] = citizens_dh_16[\"total_western\"]\n",
    "wes_citizens[\"2017\"] = citizens_dh_17[\"total_western\"]\n",
    "wes_citizens[\"2018\"] = citizens_dh_18[\"total_western\"]\n",
    "wes_citizens[\"2019\"] = citizens_dh_19[\"total_western\"]"
   ]
  },
  {
   "cell_type": "code",
   "execution_count": 16,
   "metadata": {},
   "outputs": [
    {
     "data": {
      "text/plain": [
       "<matplotlib.axes._subplots.AxesSubplot at 0x190922563c8>"
      ]
     },
     "execution_count": 16,
     "metadata": {},
     "output_type": "execute_result"
    },
    {
     "data": {
      "image/png": "[encoded data removed]",
      "text/plain": [
       "<Figure size 432x288 with 1 Axes>"
      ]
     },
     "metadata": {
      "needs_background": "light"
     },
     "output_type": "display_data"
    }
   ],
   "source": [
    "wes_citizens.sum().plot()"
   ]
  },
  {
   "cell_type": "code",
   "execution_count": 7,
   "metadata": {},
   "outputs": [],
   "source": [
    "mor_citizens = pd.DataFrame()\n",
    "mor_citizens[\"2015\"] = citizens_dh_15[\"morocco\"]\n",
    "mor_citizens[\"2016\"] = citizens_dh_16[\"morocco\"]\n",
    "mor_citizens[\"2017\"] = citizens_dh_17[\"morocco\"]\n",
    "mor_citizens[\"2018\"] = citizens_dh_18[\"morocco\"]\n",
    "mor_citizens[\"2019\"] = citizens_dh_19[\"morocco\"]"
   ]
  },
  {
   "cell_type": "code",
   "execution_count": 8,
   "metadata": {},
   "outputs": [
    {
     "data": {
      "text/plain": [
       "<matplotlib.axes._subplots.AxesSubplot at 0x1908f29d1c8>"
      ]
     },
     "execution_count": 8,
     "metadata": {},
     "output_type": "execute_result"
    },
    {
     "data": {
      "image/png": "[encoded data removed]",
      "text/plain": [
       "<Figure size 432x288 with 1 Axes>"
      ]
     },
     "metadata": {
      "needs_background": "light"
     },
     "output_type": "display_data"
    }
   ],
   "source": [
    "mor_citizens.sum().plot()"
   ]
  },
  {
   "cell_type": "code",
   "execution_count": 9,
   "metadata": {},
   "outputs": [],
   "source": [
    "tur_citizens = pd.DataFrame()\n",
    "tur_citizens[\"2015\"] = citizens_dh_15[\"turkey\"]\n",
    "tur_citizens[\"2016\"] = citizens_dh_16[\"turkey\"]\n",
    "tur_citizens[\"2017\"] = citizens_dh_17[\"turkey\"]\n",
    "tur_citizens[\"2018\"] = citizens_dh_18[\"turkey\"]\n",
    "tur_citizens[\"2019\"] = citizens_dh_19[\"turkey\"]"
   ]
  },
  {
   "cell_type": "code",
   "execution_count": 10,
   "metadata": {},
   "outputs": [
    {
     "data": {
      "text/plain": [
       "<matplotlib.axes._subplots.AxesSubplot at 0x1909232ce48>"
      ]
     },
     "execution_count": 10,
     "metadata": {},
     "output_type": "execute_result"
    },
    {
     "data": {
      "image/png": "[encoded data removed]",
      "text/plain": [
       "<Figure size 432x288 with 1 Axes>"
      ]
     },
     "metadata": {
      "needs_background": "light"
     },
     "output_type": "display_data"
    }
   ],
   "source": [
    "tur_citizens.sum().plot()"
   ]
  },
  {
   "cell_type": "code",
   "execution_count": 11,
   "metadata": {},
   "outputs": [],
   "source": [
    "onw_citizens = pd.DataFrame()\n",
    "onw_citizens[\"2015\"] = citizens_dh_15[\"other_non_western\"]\n",
    "onw_citizens[\"2016\"] = citizens_dh_16[\"other_non_western\"]\n",
    "onw_citizens[\"2017\"] = citizens_dh_17[\"other_non_western\"]\n",
    "onw_citizens[\"2018\"] = citizens_dh_18[\"other_non_western\"]\n",
    "onw_citizens[\"2019\"] = citizens_dh_19[\"other_non_western\"]"
   ]
  },
  {
   "cell_type": "code",
   "execution_count": 12,
   "metadata": {},
   "outputs": [
    {
     "data": {
      "text/plain": [
       "<matplotlib.axes._subplots.AxesSubplot at 0x1908ed18748>"
      ]
     },
     "execution_count": 12,
     "metadata": {},
     "output_type": "execute_result"
    },
    {
     "data": {
      "image/png": "[encoded data removed]",
      "text/plain": [
       "<Figure size 432x288 with 1 Axes>"
      ]
     },
     "metadata": {
      "needs_background": "light"
     },
     "output_type": "display_data"
    }
   ],
   "source": [
    "onw_citizens.sum().plot()"
   ]
  },
  {
   "cell_type": "code",
   "execution_count": null,
   "metadata": {},
   "outputs": [],
   "source": []
  }
 ],
 "metadata": {
  "kernelspec": {
   "display_name": "Python 3",
   "language": "python",
   "name": "python3"
  },
  "language_info": {
   "codemirror_mode": {
    "name": "ipython",
    "version": 3
   },
   "file_extension": ".py",
   "mimetype": "text/x-python",
   "name": "python",
   "nbconvert_exporter": "python",
   "pygments_lexer": "ipython3",
   "version": "3.7.4"
  }
 },
 "nbformat": 4,
 "nbformat_minor": 2
}
