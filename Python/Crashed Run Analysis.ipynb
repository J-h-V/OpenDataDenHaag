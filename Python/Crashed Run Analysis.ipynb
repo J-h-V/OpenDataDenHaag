{
 "cells": [
  {
   "cell_type": "code",
   "execution_count": 1,
   "metadata": {},
   "outputs": [],
   "source": [
    "# import necessary packages\n",
    "import os\n",
    "import matplotlib.pyplot as plt\n",
    "import pandas as pd\n",
    "import numpy as np\n",
    "import seaborn as sns\n",
    "import plotly.express as px\n",
    "import geopandas as gpd\n",
    "from descartes import PolygonPatch"
   ]
  },
  {
   "cell_type": "code",
   "execution_count": null,
   "metadata": {},
   "outputs": [
    {
     "name": "stderr",
     "output_type": "stream",
     "text": [
      "Skipping line 1545404: NULL byte detected. This byte cannot be processed in Python's native csv library at the moment, so please pass in engine='c' instead. Error could possibly be due to parsing errors in the skipped footer rows (the skipfooter keyword is only applied after Python's csv library has parsed all rows).\n",
      "Skipping line 1545439: NULL byte detected. This byte cannot be processed in Python's native csv library at the moment, so please pass in engine='c' instead. Error could possibly be due to parsing errors in the skipped footer rows (the skipfooter keyword is only applied after Python's csv library has parsed all rows).\n",
      "Skipping line 1547005: NULL byte detected. This byte cannot be processed in Python's native csv library at the moment, so please pass in engine='c' instead. Error could possibly be due to parsing errors in the skipped footer rows (the skipfooter keyword is only applied after Python's csv library has parsed all rows).\n",
      "Skipping line 1547422: NULL byte detected. This byte cannot be processed in Python's native csv library at the moment, so please pass in engine='c' instead. Error could possibly be due to parsing errors in the skipped footer rows (the skipfooter keyword is only applied after Python's csv library has parsed all rows).\n",
      "Skipping line 1548483: NULL byte detected. This byte cannot be processed in Python's native csv library at the moment, so please pass in engine='c' instead. Error could possibly be due to parsing errors in the skipped footer rows (the skipfooter keyword is only applied after Python's csv library has parsed all rows).\n",
      "Skipping line 1548750: NULL byte detected. This byte cannot be processed in Python's native csv library at the moment, so please pass in engine='c' instead. Error could possibly be due to parsing errors in the skipped footer rows (the skipfooter keyword is only applied after Python's csv library has parsed all rows).\n",
      "Skipping line 1549819: NULL byte detected. This byte cannot be processed in Python's native csv library at the moment, so please pass in engine='c' instead. Error could possibly be due to parsing errors in the skipped footer rows (the skipfooter keyword is only applied after Python's csv library has parsed all rows).\n",
      "Skipping line 1550327: NULL byte detected. This byte cannot be processed in Python's native csv library at the moment, so please pass in engine='c' instead. Error could possibly be due to parsing errors in the skipped footer rows (the skipfooter keyword is only applied after Python's csv library has parsed all rows).\n",
      "Skipping line 1550337: NULL byte detected. This byte cannot be processed in Python's native csv library at the moment, so please pass in engine='c' instead. Error could possibly be due to parsing errors in the skipped footer rows (the skipfooter keyword is only applied after Python's csv library has parsed all rows).\n",
      "Skipping line 1550783: NULL byte detected. This byte cannot be processed in Python's native csv library at the moment, so please pass in engine='c' instead. Error could possibly be due to parsing errors in the skipped footer rows (the skipfooter keyword is only applied after Python's csv library has parsed all rows).\n",
      "Skipping line 1550805: NULL byte detected. This byte cannot be processed in Python's native csv library at the moment, so please pass in engine='c' instead. Error could possibly be due to parsing errors in the skipped footer rows (the skipfooter keyword is only applied after Python's csv library has parsed all rows).\n",
      "Skipping line 1550969: NULL byte detected. This byte cannot be processed in Python's native csv library at the moment, so please pass in engine='c' instead. Error could possibly be due to parsing errors in the skipped footer rows (the skipfooter keyword is only applied after Python's csv library has parsed all rows).\n",
      "Skipping line 1551064: NULL byte detected. This byte cannot be processed in Python's native csv library at the moment, so please pass in engine='c' instead. Error could possibly be due to parsing errors in the skipped footer rows (the skipfooter keyword is only applied after Python's csv library has parsed all rows).\n",
      "Skipping line 1551110: NULL byte detected. This byte cannot be processed in Python's native csv library at the moment, so please pass in engine='c' instead. Error could possibly be due to parsing errors in the skipped footer rows (the skipfooter keyword is only applied after Python's csv library has parsed all rows).\n",
      "Skipping line 1551360: NULL byte detected. This byte cannot be processed in Python's native csv library at the moment, so please pass in engine='c' instead. Error could possibly be due to parsing errors in the skipped footer rows (the skipfooter keyword is only applied after Python's csv library has parsed all rows).\n",
      "Skipping line 1551385: NULL byte detected. This byte cannot be processed in Python's native csv library at the moment, so please pass in engine='c' instead. Error could possibly be due to parsing errors in the skipped footer rows (the skipfooter keyword is only applied after Python's csv library has parsed all rows).\n",
      "Skipping line 1551422: NULL byte detected. This byte cannot be processed in Python's native csv library at the moment, so please pass in engine='c' instead. Error could possibly be due to parsing errors in the skipped footer rows (the skipfooter keyword is only applied after Python's csv library has parsed all rows).\n",
      "Skipping line 1551445: NULL byte detected. This byte cannot be processed in Python's native csv library at the moment, so please pass in engine='c' instead. Error could possibly be due to parsing errors in the skipped footer rows (the skipfooter keyword is only applied after Python's csv library has parsed all rows).\n",
      "Skipping line 1551464: NULL byte detected. This byte cannot be processed in Python's native csv library at the moment, so please pass in engine='c' instead. Error could possibly be due to parsing errors in the skipped footer rows (the skipfooter keyword is only applied after Python's csv library has parsed all rows).\n",
      "Skipping line 1551904: NULL byte detected. This byte cannot be processed in Python's native csv library at the moment, so please pass in engine='c' instead. Error could possibly be due to parsing errors in the skipped footer rows (the skipfooter keyword is only applied after Python's csv library has parsed all rows).\n",
      "Skipping line 1551917: NULL byte detected. This byte cannot be processed in Python's native csv library at the moment, so please pass in engine='c' instead. Error could possibly be due to parsing errors in the skipped footer rows (the skipfooter keyword is only applied after Python's csv library has parsed all rows).\n",
      "Skipping line 1551934: NULL byte detected. This byte cannot be processed in Python's native csv library at the moment, so please pass in engine='c' instead. Error could possibly be due to parsing errors in the skipped footer rows (the skipfooter keyword is only applied after Python's csv library has parsed all rows).\n",
      "Skipping line 1551955: NULL byte detected. This byte cannot be processed in Python's native csv library at the moment, so please pass in engine='c' instead. Error could possibly be due to parsing errors in the skipped footer rows (the skipfooter keyword is only applied after Python's csv library has parsed all rows).\n",
      "Skipping line 1551966: NULL byte detected. This byte cannot be processed in Python's native csv library at the moment, so please pass in engine='c' instead. Error could possibly be due to parsing errors in the skipped footer rows (the skipfooter keyword is only applied after Python's csv library has parsed all rows).\n",
      "Skipping line 1551993: NULL byte detected. This byte cannot be processed in Python's native csv library at the moment, so please pass in engine='c' instead. Error could possibly be due to parsing errors in the skipped footer rows (the skipfooter keyword is only applied after Python's csv library has parsed all rows).\n",
      "Skipping line 1552020: NULL byte detected. This byte cannot be processed in Python's native csv library at the moment, so please pass in engine='c' instead. Error could possibly be due to parsing errors in the skipped footer rows (the skipfooter keyword is only applied after Python's csv library has parsed all rows).\n",
      "Skipping line 1552035: NULL byte detected. This byte cannot be processed in Python's native csv library at the moment, so please pass in engine='c' instead. Error could possibly be due to parsing errors in the skipped footer rows (the skipfooter keyword is only applied after Python's csv library has parsed all rows).\n",
      "Skipping line 1552089: NULL byte detected. This byte cannot be processed in Python's native csv library at the moment, so please pass in engine='c' instead. Error could possibly be due to parsing errors in the skipped footer rows (the skipfooter keyword is only applied after Python's csv library has parsed all rows).\n",
      "Skipping line 1552136: NULL byte detected. This byte cannot be processed in Python's native csv library at the moment, so please pass in engine='c' instead. Error could possibly be due to parsing errors in the skipped footer rows (the skipfooter keyword is only applied after Python's csv library has parsed all rows).\n",
      "Skipping line 1552164: NULL byte detected. This byte cannot be processed in Python's native csv library at the moment, so please pass in engine='c' instead. Error could possibly be due to parsing errors in the skipped footer rows (the skipfooter keyword is only applied after Python's csv library has parsed all rows).\n"
     ]
    }
   ],
   "source": [
    "#importing the dataset from Netlogo runs\n",
    "df = pd.read_csv(\"../../Raw_Data/full_run_1.csv\",skiprows=6,skipfooter=1545404,error_bad_lines=False,engine=\"python\")"
   ]
  },
  {
   "cell_type": "code",
   "execution_count": null,
   "metadata": {},
   "outputs": [],
   "source": [
    "df"
   ]
  },
  {
   "cell_type": "code",
   "execution_count": null,
   "metadata": {},
   "outputs": [],
   "source": []
  }
 ],
 "metadata": {
  "kernelspec": {
   "display_name": "Python 3",
   "language": "python",
   "name": "python3"
  },
  "language_info": {
   "codemirror_mode": {
    "name": "ipython",
    "version": 3
   },
   "file_extension": ".py",
   "mimetype": "text/x-python",
   "name": "python",
   "nbconvert_exporter": "python",
   "pygments_lexer": "ipython3",
   "version": "3.7.4"
  }
 },
 "nbformat": 4,
 "nbformat_minor": 4
}
