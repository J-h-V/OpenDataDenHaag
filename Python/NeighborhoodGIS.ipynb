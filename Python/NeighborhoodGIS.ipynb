{
 "cells": [
  {
   "cell_type": "code",
   "execution_count": 1,
   "metadata": {},
   "outputs": [],
   "source": [
    "# import necessary packages\n",
    "import os\n",
    "import matplotlib.pyplot as plt\n",
    "import geopandas as gpd\n",
    "from descartes import PolygonPatch\n",
    "import pandas as pd\n",
    "import numpy as np\n",
    "import seaborn as sns\n",
    "import fiona\n",
    "import cbsodata\n",
    "import pyproj"
   ]
  },
  {
   "cell_type": "code",
   "execution_count": 2,
   "metadata": {},
   "outputs": [],
   "source": [
    "buurten = gpd.read_file(\"data/neighborhoods/buurten.shp\").drop(columns=[\"OPPERVLAKT\",\"OMTREK\",\"WIJKBUURTC\",\"WIJKCODE\",\"OCE_ID\"])"
   ]
  },
  {
   "cell_type": "code",
   "execution_count": 41,
   "metadata": {},
   "outputs": [],
   "source": [
    "buurt_name_list = pd.read_csv(\"data/buurten.csv\",sep=\";\")\n",
    "buurt_code = buurt_name_list[[\"BUURTCODE\",\"BUURTNAAM\"]]"
   ]
  },
  {
   "cell_type": "code",
   "execution_count": 4,
   "metadata": {},
   "outputs": [],
   "source": [
    "education_17 = pd.read_csv(\"data/education17.csv\",sep=\";\",decimal=\",\")"
   ]
  },
  {
   "cell_type": "code",
   "execution_count": 5,
   "metadata": {},
   "outputs": [],
   "source": [
    "income_17 = pd.read_csv(\"data/income10-19.csv\",sep=\";\",decimal=\",\")"
   ]
  },
  {
   "cell_type": "code",
   "execution_count": 3,
   "metadata": {},
   "outputs": [],
   "source": [
    "buurt_data_19 = pd.DataFrame(cbsodata.get_data(\"84583NED\"))"
   ]
  },
  {
   "cell_type": "code",
   "execution_count": 4,
   "metadata": {},
   "outputs": [],
   "source": [
    "dh_buurt_data_19 = buurt_data_19[(buurt_data_19[\"Gemeentenaam_1\"]==\"'s-Gravenhage                           \") & (buurt_data_19[\"SoortRegio_2\"]==\"Buurt     \")]\n",
    "total_dh_19 = dh_buurt_data_19[['WijkenEnBuurten','AantalInwoners_5','WestersTotaal_17','Marokko_19','NederlandseAntillenEnAruba_20','Suriname_21','Turkije_22','OverigNietWesters_23','GemiddeldeHuishoudensgrootte_32','GemiddeldeWoningwaarde_35','Koopwoningen_40','HuurwoningenTotaal_41','GIHandelEnHoreca_84','RUCultuurRecreatieOverigeDiensten_88','AfstandTotHuisartsenpraktijk_95','AfstandTotGroteSupermarkt_96','AfstandTotKinderdagverblijf_97','AfstandTotSchool_98']].rename(columns={'WijkenEnBuurten':'buurtname','AantalInwoners_5':'total_citizens','WestersTotaal_17':'total_western','Marokko_19':'morocco','NederlandseAntillenEnAruba_20':'antilles','Suriname_21':'suriname','Turkije_22':'turkey','OverigNietWesters_23':'other_non_western','GemiddeldeHuishoudensgrootte_32':'avg_household_size','GemiddeldeWoningwaarde_35':'avg_housevalue','Koopwoningen_40':'owned_houses','HuurwoningenTotaal_41':'rent_houses','GIHandelEnHoreca_84':'horeca_biz','RUCultuurRecreatieOverigeDiensten_88':'recreation_biz','AfstandTotHuisartsenpraktijk_95':'dist_GP','AfstandTotGroteSupermarkt_96':'dist_super','AfstandTotKinderdagverblijf_97':'dist_nursery','AfstandTotSchool_98':'dist_school'}, errors=\"raise\").merge(buurt_code, left_on='buurtname', right_on='BUURTNAAM',validate=\"1:1\").set_index(\"BUURTCODE\").drop(\"BUURTNAAM\",axis=1)"
   ]
  },
  {
   "cell_type": "code",
   "execution_count": 11,
   "metadata": {},
   "outputs": [],
   "source": [
    "total_dh_19 = total_dh_19.sort_index()"
   ]
  },
  {
   "cell_type": "code",
   "execution_count": 12,
   "metadata": {},
   "outputs": [],
   "source": [
    "buurten[\"BUURTCODE\"] = buurten[\"BUURTCODE\"].astype(\"int\")"
   ]
  },
  {
   "cell_type": "code",
   "execution_count": 13,
   "metadata": {},
   "outputs": [],
   "source": [
    "buurten = buurten.set_index(\"BUURTCODE\").sort_index()"
   ]
  },
  {
   "cell_type": "code",
   "execution_count": 14,
   "metadata": {},
   "outputs": [],
   "source": [
    "buurten[\"total_citizens\"] = total_dh_19[\"total_citizens\"]"
   ]
  },
  {
   "cell_type": "code",
   "execution_count": 10,
   "metadata": {},
   "outputs": [
    {
     "data": {
      "text/plain": [
       "{'proj': 'sterea',\n",
       " 'lat_0': 52.15616055555555,\n",
       " 'lon_0': 5.38763888888889,\n",
       " 'k': 0.9999079,\n",
       " 'x_0': 155000,\n",
       " 'y_0': 463000,\n",
       " 'ellps': 'bessel',\n",
       " 'units': 'm',\n",
       " 'no_defs': True}"
      ]
     },
     "execution_count": 10,
     "metadata": {},
     "output_type": "execute_result"
    }
   ],
   "source": [
    "buurten.crs"
   ]
  },
  {
   "cell_type": "code",
   "execution_count": 11,
   "metadata": {},
   "outputs": [
    {
     "ename": "RuntimeError",
     "evalue": "b'no arguments in initialization list'",
     "output_type": "error",
     "traceback": [
      "\u001b[1;31m---------------------------------------------------------------------------\u001b[0m",
      "\u001b[1;31mRuntimeError\u001b[0m                              Traceback (most recent call last)",
      "\u001b[1;32m<ipython-input-11-7a45c8a227b5>\u001b[0m in \u001b[0;36m<module>\u001b[1;34m\u001b[0m\n\u001b[0;32m      1\u001b[0m \u001b[1;31m#for some stupid reason, this function is really broken in Anaconda. I am too tired too fix it so I'll use an online converter.\u001b[0m\u001b[1;33m\u001b[0m\u001b[1;33m\u001b[0m\u001b[1;33m\u001b[0m\u001b[0m\n\u001b[1;32m----> 2\u001b[1;33m \u001b[0mbuurten\u001b[0m \u001b[1;33m=\u001b[0m \u001b[0mbuurten\u001b[0m\u001b[1;33m.\u001b[0m\u001b[0mto_crs\u001b[0m\u001b[1;33m(\u001b[0m\u001b[1;34m'EPSG:28992'\u001b[0m\u001b[1;33m)\u001b[0m\u001b[1;33m\u001b[0m\u001b[1;33m\u001b[0m\u001b[0m\n\u001b[0m",
      "\u001b[1;32m~\\Anaconda3\\lib\\site-packages\\geopandas\\geodataframe.py\u001b[0m in \u001b[0;36mto_crs\u001b[1;34m(self, crs, epsg, inplace)\u001b[0m\n\u001b[0;32m    532\u001b[0m         \u001b[1;32melse\u001b[0m\u001b[1;33m:\u001b[0m\u001b[1;33m\u001b[0m\u001b[1;33m\u001b[0m\u001b[0m\n\u001b[0;32m    533\u001b[0m             \u001b[0mdf\u001b[0m \u001b[1;33m=\u001b[0m \u001b[0mself\u001b[0m\u001b[1;33m.\u001b[0m\u001b[0mcopy\u001b[0m\u001b[1;33m(\u001b[0m\u001b[1;33m)\u001b[0m\u001b[1;33m\u001b[0m\u001b[1;33m\u001b[0m\u001b[0m\n\u001b[1;32m--> 534\u001b[1;33m         \u001b[0mgeom\u001b[0m \u001b[1;33m=\u001b[0m \u001b[0mdf\u001b[0m\u001b[1;33m.\u001b[0m\u001b[0mgeometry\u001b[0m\u001b[1;33m.\u001b[0m\u001b[0mto_crs\u001b[0m\u001b[1;33m(\u001b[0m\u001b[0mcrs\u001b[0m\u001b[1;33m=\u001b[0m\u001b[0mcrs\u001b[0m\u001b[1;33m,\u001b[0m \u001b[0mepsg\u001b[0m\u001b[1;33m=\u001b[0m\u001b[0mepsg\u001b[0m\u001b[1;33m)\u001b[0m\u001b[1;33m\u001b[0m\u001b[1;33m\u001b[0m\u001b[0m\n\u001b[0m\u001b[0;32m    535\u001b[0m         \u001b[0mdf\u001b[0m\u001b[1;33m.\u001b[0m\u001b[0mgeometry\u001b[0m \u001b[1;33m=\u001b[0m \u001b[0mgeom\u001b[0m\u001b[1;33m\u001b[0m\u001b[1;33m\u001b[0m\u001b[0m\n\u001b[0;32m    536\u001b[0m         \u001b[0mdf\u001b[0m\u001b[1;33m.\u001b[0m\u001b[0mcrs\u001b[0m \u001b[1;33m=\u001b[0m \u001b[0mgeom\u001b[0m\u001b[1;33m.\u001b[0m\u001b[0mcrs\u001b[0m\u001b[1;33m\u001b[0m\u001b[1;33m\u001b[0m\u001b[0m\n",
      "\u001b[1;32m~\\Anaconda3\\lib\\site-packages\\geopandas\\geoseries.py\u001b[0m in \u001b[0;36mto_crs\u001b[1;34m(self, crs, epsg)\u001b[0m\n\u001b[0;32m    422\u001b[0m         \u001b[1;32melse\u001b[0m\u001b[1;33m:\u001b[0m\u001b[1;33m\u001b[0m\u001b[1;33m\u001b[0m\u001b[0m\n\u001b[0;32m    423\u001b[0m             \u001b[0mproj_in\u001b[0m \u001b[1;33m=\u001b[0m \u001b[0mpyproj\u001b[0m\u001b[1;33m.\u001b[0m\u001b[0mProj\u001b[0m\u001b[1;33m(\u001b[0m\u001b[0mself\u001b[0m\u001b[1;33m.\u001b[0m\u001b[0mcrs\u001b[0m\u001b[1;33m,\u001b[0m \u001b[0mpreserve_units\u001b[0m\u001b[1;33m=\u001b[0m\u001b[1;32mTrue\u001b[0m\u001b[1;33m)\u001b[0m\u001b[1;33m\u001b[0m\u001b[1;33m\u001b[0m\u001b[0m\n\u001b[1;32m--> 424\u001b[1;33m             \u001b[0mproj_out\u001b[0m \u001b[1;33m=\u001b[0m \u001b[0mpyproj\u001b[0m\u001b[1;33m.\u001b[0m\u001b[0mProj\u001b[0m\u001b[1;33m(\u001b[0m\u001b[0mcrs\u001b[0m\u001b[1;33m,\u001b[0m \u001b[0mpreserve_units\u001b[0m\u001b[1;33m=\u001b[0m\u001b[1;32mTrue\u001b[0m\u001b[1;33m)\u001b[0m\u001b[1;33m\u001b[0m\u001b[1;33m\u001b[0m\u001b[0m\n\u001b[0m\u001b[0;32m    425\u001b[0m             \u001b[0mproject\u001b[0m \u001b[1;33m=\u001b[0m \u001b[0mpartial\u001b[0m\u001b[1;33m(\u001b[0m\u001b[0mpyproj\u001b[0m\u001b[1;33m.\u001b[0m\u001b[0mtransform\u001b[0m\u001b[1;33m,\u001b[0m \u001b[0mproj_in\u001b[0m\u001b[1;33m,\u001b[0m \u001b[0mproj_out\u001b[0m\u001b[1;33m)\u001b[0m\u001b[1;33m\u001b[0m\u001b[1;33m\u001b[0m\u001b[0m\n\u001b[0;32m    426\u001b[0m         \u001b[0mresult\u001b[0m \u001b[1;33m=\u001b[0m \u001b[0mself\u001b[0m\u001b[1;33m.\u001b[0m\u001b[0mapply\u001b[0m\u001b[1;33m(\u001b[0m\u001b[1;32mlambda\u001b[0m \u001b[0mgeom\u001b[0m\u001b[1;33m:\u001b[0m \u001b[0mtransform\u001b[0m\u001b[1;33m(\u001b[0m\u001b[0mproject\u001b[0m\u001b[1;33m,\u001b[0m \u001b[0mgeom\u001b[0m\u001b[1;33m)\u001b[0m\u001b[1;33m)\u001b[0m\u001b[1;33m\u001b[0m\u001b[1;33m\u001b[0m\u001b[0m\n",
      "\u001b[1;32m~\\Anaconda3\\lib\\site-packages\\pyproj\\__init__.py\u001b[0m in \u001b[0;36m__new__\u001b[1;34m(self, projparams, preserve_units, **kwargs)\u001b[0m\n\u001b[0;32m    360\u001b[0m         \u001b[1;31m# on case-insensitive filesystems).\u001b[0m\u001b[1;33m\u001b[0m\u001b[1;33m\u001b[0m\u001b[1;33m\u001b[0m\u001b[0m\n\u001b[0;32m    361\u001b[0m         \u001b[0mprojstring\u001b[0m \u001b[1;33m=\u001b[0m \u001b[0mprojstring\u001b[0m\u001b[1;33m.\u001b[0m\u001b[0mreplace\u001b[0m\u001b[1;33m(\u001b[0m\u001b[1;34m'EPSG'\u001b[0m\u001b[1;33m,\u001b[0m\u001b[1;34m'epsg'\u001b[0m\u001b[1;33m)\u001b[0m\u001b[1;33m\u001b[0m\u001b[1;33m\u001b[0m\u001b[0m\n\u001b[1;32m--> 362\u001b[1;33m         \u001b[1;32mreturn\u001b[0m \u001b[0m_proj\u001b[0m\u001b[1;33m.\u001b[0m\u001b[0mProj\u001b[0m\u001b[1;33m.\u001b[0m\u001b[0m__new__\u001b[0m\u001b[1;33m(\u001b[0m\u001b[0mself\u001b[0m\u001b[1;33m,\u001b[0m \u001b[0mprojstring\u001b[0m\u001b[1;33m)\u001b[0m\u001b[1;33m\u001b[0m\u001b[1;33m\u001b[0m\u001b[0m\n\u001b[0m\u001b[0;32m    363\u001b[0m \u001b[1;33m\u001b[0m\u001b[0m\n\u001b[0;32m    364\u001b[0m     \u001b[1;32mdef\u001b[0m \u001b[0m__call__\u001b[0m\u001b[1;33m(\u001b[0m\u001b[0mself\u001b[0m\u001b[1;33m,\u001b[0m \u001b[1;33m*\u001b[0m\u001b[0margs\u001b[0m\u001b[1;33m,\u001b[0m \u001b[1;33m**\u001b[0m\u001b[0mkw\u001b[0m\u001b[1;33m)\u001b[0m\u001b[1;33m:\u001b[0m\u001b[1;33m\u001b[0m\u001b[1;33m\u001b[0m\u001b[0m\n",
      "\u001b[1;32m_proj.pyx\u001b[0m in \u001b[0;36m_proj.Proj.__cinit__\u001b[1;34m()\u001b[0m\n",
      "\u001b[1;31mRuntimeError\u001b[0m: b'no arguments in initialization list'"
     ]
    }
   ],
   "source": [
    "#for some stupid reason, this function is really broken in Anaconda. I am too tired too fix it so I'll use an online converter.\n",
    "buurten = buurten.to_crs('EPSG:28992')"
   ]
  },
  {
   "cell_type": "code",
   "execution_count": 12,
   "metadata": {},
   "outputs": [],
   "source": [
    "buurten = buurten.reset_index()"
   ]
  },
  {
   "cell_type": "code",
   "execution_count": 13,
   "metadata": {},
   "outputs": [],
   "source": [
    "buurten = buurten.rename(columns= {\"total_citizens\":\"c_total\"})"
   ]
  },
  {
   "cell_type": "code",
   "execution_count": 38,
   "metadata": {},
   "outputs": [
    {
     "name": "stderr",
     "output_type": "stream",
     "text": [
      "ERROR:fiona._env:Unable to open EPSG support file gcs.csv.  Try setting the GDAL_DATA environment variable to point to the directory containing EPSG csv files.\n"
     ]
    }
   ],
   "source": [
    "#buurten.to_file(\"output/buurten.shp\")"
   ]
  },
  {
   "cell_type": "code",
   "execution_count": 14,
   "metadata": {
    "scrolled": true
   },
   "outputs": [
    {
     "data": {
      "text/plain": [
       "<matplotlib.axes._subplots.AxesSubplot at 0x2711cecf048>"
      ]
     },
     "execution_count": 14,
     "metadata": {},
     "output_type": "execute_result"
    },
    {
     "data": {
      "image/png": "[encoded data removed]",
      "text/plain": [
       "<Figure size 432x288 with 1 Axes>"
      ]
     },
     "metadata": {
      "needs_background": "light"
     },
     "output_type": "display_data"
    }
   ],
   "source": [
    "buurten.plot()"
   ]
  },
  {
   "cell_type": "code",
   "execution_count": 72,
   "metadata": {},
   "outputs": [],
   "source": [
    "#TODO add distance to school!\n",
    "amenities_data = dh_buurt_data_19[['WijkenEnBuurten','GIHandelEnHoreca_84',\n",
    " 'RUCultuurRecreatieOverigeDiensten_88','AfstandTotHuisartsenpraktijk_95',\n",
    " 'AfstandTotGroteSupermarkt_96', 'AfstandTotKinderdagverblijf_97']].rename(columns={'WijkenEnBuurten':'buurtname'}).merge(buurt_code, left_on='buurtname',\n",
    "                                right_on='BUURTNAAM',validate=\"1:1\").set_index(\"BUURTCODE\").drop(\"BUURTNAAM\",axis=1)"
   ]
  },
  {
   "cell_type": "code",
   "execution_count": 73,
   "metadata": {},
   "outputs": [],
   "source": [
    "amenities_data = amenities_data.rename(columns={'GIHandelEnHoreca_84':\"b_horeca\",\n",
    " 'RUCultuurRecreatieOverigeDiensten_88':\"b_culture\",'AfstandTotHuisartsenpraktijk_95':\"d_gp\",\n",
    " 'AfstandTotGroteSupermarkt_96':\"d_super\", 'AfstandTotKinderdagverblijf_97':\"d_nursery\"}).sort_index()"
   ]
  },
  {
   "cell_type": "code",
   "execution_count": 75,
   "metadata": {},
   "outputs": [],
   "source": [
    "amenities_data.to_csv(\"output/amenities_data.csv\")"
   ]
  },
  {
   "cell_type": "code",
   "execution_count": null,
   "metadata": {},
   "outputs": [],
   "source": [
    "citizen_data = dh_buurt_data_19[['WijkenEnBuurten','Mannen_6',\n",
    " 'Vrouwen_7','k_15Tot25Jaar_9','k_25Tot45Jaar_10',\n",
    " 'k_45Tot65Jaar_11','k_65JaarOfOuder_12','WestersTotaal_17',\n",
    " 'Marokko_19','NederlandseAntillenEnAruba_20','Suriname_21',\n",
    " 'Turkije_22','OverigNietWesters_23']].rename(columns={'WijkenEnBuurten':'buurtname'}).merge(buurt_code, left_on='buurtname',\n",
    "                                right_on='BUURTNAAM',validate=\"1:1\").set_index(\"BUURTCODE\").drop(\"BUURTNAAM\",axis=1)"
   ]
  },
  {
   "cell_type": "code",
   "execution_count": null,
   "metadata": {},
   "outputs": [],
   "source": [
    "citizen_data = citizen_data.rename(columns={'Mannen_6':\"men\",\n",
    " 'Vrouwen_7':\"women\",'k_15Tot25Jaar_9':\"a_young\",'k_25Tot45Jaar_10':\"a_2540\",\n",
    " 'k_45Tot65Jaar_11':\"a_4065\",'k_65JaarOfOuder_12':\"a_old\",'WestersTotaal_17':\"c_western\",\n",
    " 'Marokko_19':'c_morocco','NederlandseAntillenEnAruba_20':\"c_antilles\",'Suriname_21':\"c_suriname\",\n",
    " 'Turkije_22':\"c_turkey\",'OverigNietWesters_23':\"c_nonwestern\"}).sort_index()"
   ]
  },
  {
   "cell_type": "code",
   "execution_count": null,
   "metadata": {},
   "outputs": [],
   "source": [
    "citizen_data[\"a_middle\"] = citizen_data[\"a_2540\"] + citizen_data[\"a_4065\"]"
   ]
  },
  {
   "cell_type": "code",
   "execution_count": null,
   "metadata": {},
   "outputs": [],
   "source": [
    "citizen_data = citizen_data.drop([\"a_2540\",\"a_4065\"],axis=1)"
   ]
  },
  {
   "cell_type": "code",
   "execution_count": null,
   "metadata": {},
   "outputs": [],
   "source": [
    "citizen_data.to_csv(\"output/citizen_data.csv\")"
   ]
  },
  {
   "cell_type": "code",
   "execution_count": 110,
   "metadata": {},
   "outputs": [],
   "source": [
    "education_data = education_17[education_17[\"Buurtcode\"].notna()].drop(columns=[\"Wijk\",\"Wijkcode\",\"bevolking\",\"dekkingsgraad\",\"RSF_Laag\",\"RSF_Middelbaar\",\"RSF_Hoog\"]).rename(columns={\"Laag\":\"e_low\",\"Middelbaar\":\"e_middle\",\"Hoog\":\"e_high\"})\n",
    "education_data[\"Buurt\"] = education_data[\"Buurt\"].str.strip()"
   ]
  },
  {
   "cell_type": "code",
   "execution_count": 113,
   "metadata": {},
   "outputs": [],
   "source": [
    "education_data = education_data.merge(buurt_code,left_on=\"Buurtcode\", right_on=\"BUURTCODE\",validate=\"1:1\").drop(columns=[\"Buurtcode\",\"Buurt\"]).set_index(\"BUURTCODE\").sort_index()"
   ]
  },
  {
   "cell_type": "code",
   "execution_count": 126,
   "metadata": {},
   "outputs": [],
   "source": [
    "#To prevent erros further down the line, the average is assumed for neighborhoods without available data.\n",
    "education_data.loc[70] = education_data[education_data[\"e_low\"]!=0].mean()\n",
    "education_data.loc[106] = education_data[education_data[\"e_low\"]!=0].mean()\n",
    "education_data.loc[107] = education_data[education_data[\"e_low\"]!=0].mean()\n",
    "education_data.loc[109] = education_data[education_data[\"e_low\"]!=0].mean()\n",
    "education_data.loc[110] = education_data[education_data[\"e_low\"]!=0].mean()\n",
    "education_data.loc[116] = education_data[education_data[\"e_low\"]!=0].mean()\n",
    "education_data.loc[117] = education_data[education_data[\"e_low\"]!=0].mean()"
   ]
  },
  {
   "cell_type": "code",
   "execution_count": 127,
   "metadata": {},
   "outputs": [],
   "source": [
    "education_data.fillna(0).to_csv(\"output/education_data.csv\")"
   ]
  },
  {
   "cell_type": "code",
   "execution_count": 66,
   "metadata": {},
   "outputs": [
    {
     "data": {
      "text/plain": [
       "set()"
      ]
     },
     "execution_count": 66,
     "metadata": {},
     "output_type": "execute_result"
    }
   ],
   "source": [
    "set(sorted(list(buurt_code[\"BUURTNAAM\"]))).difference(set(sorted(list(dh_buurt_data_19[\"WijkenEnBuurten\"]))))"
   ]
  },
  {
   "cell_type": "code",
   "execution_count": 43,
   "metadata": {},
   "outputs": [
    {
     "data": {
      "text/plain": [
       "{'Parkbuurt oosteinde', 'Tedingerbuurt'}"
      ]
     },
     "execution_count": 43,
     "metadata": {},
     "output_type": "execute_result"
    }
   ],
   "source": [
    "set(sorted(list(dh_buurt_data_19[\"WijkenEnBuurten\"]))).difference(set(sorted(list(buurt_code[\"BUURTNAAM\"]))))"
   ]
  },
  {
   "cell_type": "code",
   "execution_count": 30,
   "metadata": {},
   "outputs": [
    {
     "data": {
      "text/plain": [
       "['Bosweide',\n",
       " 'Tedingerbroek',\n",
       " 'De Reef',\n",
       " 'Lage Veld',\n",
       " 'Zonne Veld',\n",
       " 'Vlietzoom-West',\n",
       " 'Vliegeniersbuurt',\n",
       " 'Kijkduin',\n",
       " 'Bohemen en Meer en Bos',\n",
       " 'Morgenstond-West',\n",
       " 'Morgenstond-Oost',\n",
       " 'Ockenburgh',\n",
       " 'Componistenbuurt',\n",
       " 'Waldeck-Noord',\n",
       " 'Kom Loosduinen',\n",
       " 'Van Hoytemastraat e.o.',\n",
       " 'Morgenstond-Zuid',\n",
       " 'Bosjes van Pex',\n",
       " 'Rosenburg',\n",
       " 'Eykenduinen',\n",
       " 'Leyenburg',\n",
       " 'Nassaubuurt',\n",
       " 'Haagse Bos',\n",
       " 'Bloemenbuurt-West',\n",
       " 'Bloemenbuurt-Oost',\n",
       " 'Bomenbuurt',\n",
       " 'Vruchtenbuurt',\n",
       " 'Heesterbuurt',\n",
       " 'Valkenboskwartier',\n",
       " 'Binckhorst',\n",
       " 'Rietbuurt',\n",
       " 'Laakhaven-Oost',\n",
       " 'Moerwijk-Oost',\n",
       " 'Groente- en Fruitmarkt',\n",
       " 'Laakhaven-West',\n",
       " 'Spoorwijk',\n",
       " 'Laakkwartier-West',\n",
       " 'Laakkwartier-Oost',\n",
       " 'Noordpolderbuurt',\n",
       " 'Rustenburg',\n",
       " 'Oostbroek-Noord',\n",
       " 'Transvaalkwartier-Noord',\n",
       " 'Transvaalkwartier-Midden',\n",
       " 'Uilennest',\n",
       " 'De Rivieren',\n",
       " 'De Lanen',\n",
       " 'De Velden',\n",
       " 'De Vissen',\n",
       " 'Zijden, Steden en Zichten',\n",
       " 'Duinzigt',\n",
       " 'Waalsdorp',\n",
       " 'Arendsdorp',\n",
       " 'Kerketuinen en Zichtenburg',\n",
       " 'Houtwijk',\n",
       " 'Venen, Oorden en Raden',\n",
       " 'Dreven en Gaarden',\n",
       " 'De Uithof',\n",
       " 'Kraayenstein en Vroondaal',\n",
       " 'Duindorp',\n",
       " 'Erasmus Veld',\n",
       " 'Hoge Veld',\n",
       " 'Parkbuurt Oosteinde',\n",
       " 'Landen',\n",
       " 'Rivierenbuurt-Zuid',\n",
       " 'Rivierenbuurt-Noord',\n",
       " 'Bezuidenhout-West',\n",
       " 'Bezuidenhout-Midden',\n",
       " 'Bezuidenhout-Oost',\n",
       " 'Kampen',\n",
       " 'Westvliet-Oost',\n",
       " 'Waterbuurt',\n",
       " 'Waldeck-Zuid',\n",
       " 'Statenkwartier',\n",
       " 'Oud Scheveningen',\n",
       " 'Vissershaven',\n",
       " 'Scheveningen Badplaats',\n",
       " 'Visserijbuurt',\n",
       " 'Van Stolkpark en Scheveningse Bosjes',\n",
       " 'Geuzenkwartier',\n",
       " 'Vogelwijk',\n",
       " 'Transvaalkwartier-Zuid',\n",
       " 'Oostbroek-Zuid',\n",
       " 'Zuiderpark',\n",
       " 'Moerwijk-West',\n",
       " 'Moerwijk-Noord',\n",
       " 'Moerwijk-Zuid',\n",
       " 'Nieuw Waldeck',\n",
       " 'Zorgvliet',\n",
       " 'Stadhoudersplantsoen',\n",
       " 'Sweelinckplein e.o.',\n",
       " 'Koningsplein e.o.',\n",
       " 'Zeeheldenkwartier',\n",
       " 'Archipelbuurt',\n",
       " 'Willemspark',\n",
       " 'Rond de Energiecentrale',\n",
       " 'Kortenbos',\n",
       " 'Voorhout',\n",
       " 'Uilebomen',\n",
       " 'Zuidwal',\n",
       " 'Schildersbuurt-West',\n",
       " 'Schildersbuurt-Noord',\n",
       " 'Schildersbuurt-Oost',\n",
       " 'Huygenspark',\n",
       " 'Marlot',\n",
       " 'Burgen en Horsten',\n",
       " 'Oostduinen',\n",
       " 'Belgisch Park',\n",
       " 'Rijslag',\n",
       " 'Westbroekpark',\n",
       " 'Duttendel',\n",
       " 'De Venen',\n",
       " 'Morgenweide',\n",
       " 'Singels',\n",
       " 'De Bras']"
      ]
     },
     "execution_count": 30,
     "metadata": {},
     "output_type": "execute_result"
    }
   ],
   "source": [
    "list(buurt_code[\"BUURTNAAM\"])"
   ]
  },
  {
   "cell_type": "code",
   "execution_count": 64,
   "metadata": {},
   "outputs": [
    {
     "name": "stderr",
     "output_type": "stream",
     "text": [
      "C:\\Users\\joche\\Anaconda3\\lib\\site-packages\\pandas\\core\\indexing.py:671: SettingWithCopyWarning: \n",
      "A value is trying to be set on a copy of a slice from a DataFrame\n",
      "\n",
      "See the caveats in the documentation: https://pandas.pydata.org/pandas-docs/stable/user_guide/indexing.html#returning-a-view-versus-a-copy\n",
      "  self._setitem_with_indexer(indexer, value)\n",
      "C:\\Users\\joche\\Anaconda3\\lib\\site-packages\\ipykernel_launcher.py:1: SettingWithCopyWarning: \n",
      "A value is trying to be set on a copy of a slice from a DataFrame\n",
      "\n",
      "See the caveats in the documentation: https://pandas.pydata.org/pandas-docs/stable/user_guide/indexing.html#returning-a-view-versus-a-copy\n",
      "  \"\"\"Entry point for launching an IPython kernel.\n",
      "C:\\Users\\joche\\Anaconda3\\lib\\site-packages\\ipykernel_launcher.py:2: SettingWithCopyWarning: \n",
      "A value is trying to be set on a copy of a slice from a DataFrame\n",
      "\n",
      "See the caveats in the documentation: https://pandas.pydata.org/pandas-docs/stable/user_guide/indexing.html#returning-a-view-versus-a-copy\n",
      "  \n"
     ]
    }
   ],
   "source": [
    "#I like red error messages, do you?\n",
    "dh_buurt_data_19[\"WijkenEnBuurten\"].loc[5805] = 'Tedingerbroek'\n",
    "dh_buurt_data_19[\"WijkenEnBuurten\"].loc[5796] = 'Parkbuurt Oosteinde'"
   ]
  },
  {
   "cell_type": "code",
   "execution_count": 65,
   "metadata": {},
   "outputs": [
    {
     "data": {
      "text/html": [
       "<div>\n",
       "<style scoped>\n",
       "    .dataframe tbody tr th:only-of-type {\n",
       "        vertical-align: middle;\n",
       "    }\n",
       "\n",
       "    .dataframe tbody tr th {\n",
       "        vertical-align: top;\n",
       "    }\n",
       "\n",
       "    .dataframe thead th {\n",
       "        text-align: right;\n",
       "    }\n",
       "</style>\n",
       "<table border=\"1\" class=\"dataframe\">\n",
       "  <thead>\n",
       "    <tr style=\"text-align: right;\">\n",
       "      <th></th>\n",
       "      <th>ID</th>\n",
       "      <th>WijkenEnBuurten</th>\n",
       "      <th>Gemeentenaam_1</th>\n",
       "      <th>SoortRegio_2</th>\n",
       "      <th>Codering_3</th>\n",
       "      <th>IndelingswijzigingWijkenEnBuurten_4</th>\n",
       "      <th>AantalInwoners_5</th>\n",
       "      <th>Mannen_6</th>\n",
       "      <th>Vrouwen_7</th>\n",
       "      <th>k_0Tot15Jaar_8</th>\n",
       "      <th>...</th>\n",
       "      <th>AfstandTotKinderdagverblijf_97</th>\n",
       "      <th>AfstandTotSchool_98</th>\n",
       "      <th>ScholenBinnen3Km_99</th>\n",
       "      <th>OppervlakteTotaal_100</th>\n",
       "      <th>OppervlakteLand_101</th>\n",
       "      <th>OppervlakteWater_102</th>\n",
       "      <th>MeestVoorkomendePostcode_103</th>\n",
       "      <th>Dekkingspercentage_104</th>\n",
       "      <th>MateVanStedelijkheid_105</th>\n",
       "      <th>Omgevingsadressendichtheid_106</th>\n",
       "    </tr>\n",
       "  </thead>\n",
       "  <tbody>\n",
       "  </tbody>\n",
       "</table>\n",
       "<p>0 rows × 108 columns</p>\n",
       "</div>"
      ],
      "text/plain": [
       "Empty DataFrame\n",
       "Columns: [ID, WijkenEnBuurten, Gemeentenaam_1, SoortRegio_2, Codering_3, IndelingswijzigingWijkenEnBuurten_4, AantalInwoners_5, Mannen_6, Vrouwen_7, k_0Tot15Jaar_8, k_15Tot25Jaar_9, k_25Tot45Jaar_10, k_45Tot65Jaar_11, k_65JaarOfOuder_12, Ongehuwd_13, Gehuwd_14, Gescheiden_15, Verweduwd_16, WestersTotaal_17, NietWestersTotaal_18, Marokko_19, NederlandseAntillenEnAruba_20, Suriname_21, Turkije_22, OverigNietWesters_23, GeboorteTotaal_24, GeboorteRelatief_25, SterfteTotaal_26, SterfteRelatief_27, HuishoudensTotaal_28, Eenpersoonshuishoudens_29, HuishoudensZonderKinderen_30, HuishoudensMetKinderen_31, GemiddeldeHuishoudensgrootte_32, Bevolkingsdichtheid_33, Woningvoorraad_34, GemiddeldeWoningwaarde_35, PercentageEengezinswoning_36, PercentageMeergezinswoning_37, PercentageBewoond_38, PercentageOnbewoond_39, Koopwoningen_40, HuurwoningenTotaal_41, InBezitWoningcorporatie_42, InBezitOverigeVerhuurders_43, EigendomOnbekend_44, BouwjaarVoor2000_45, BouwjaarVanaf2000_46, GemiddeldElektriciteitsverbruikTotaal_47, Appartement_48, Tussenwoning_49, Hoekwoning_50, TweeOnderEenKapWoning_51, VrijstaandeWoning_52, Huurwoning_53, EigenWoning_54, GemiddeldAardgasverbruikTotaal_55, Appartement_56, Tussenwoning_57, Hoekwoning_58, TweeOnderEenKapWoning_59, VrijstaandeWoning_60, Huurwoning_61, EigenWoning_62, PercentageWoningenMetStadsverwarming_63, AantalInkomensontvangers_64, GemiddeldInkomenPerInkomensontvanger_65, GemiddeldInkomenPerInwoner_66, k_40PersonenMetLaagsteInkomen_67, k_20PersonenMetHoogsteInkomen_68, Actieven1575Jaar_69, k_40HuishoudensMetLaagsteInkomen_70, k_20HuishoudensMetHoogsteInkomen_71, HuishoudensMetEenLaagInkomen_72, HuishOnderOfRondSociaalMinimum_73, PersonenPerSoortUitkeringBijstand_74, PersonenPerSoortUitkeringAO_75, PersonenPerSoortUitkeringWW_76, PersonenPerSoortUitkeringAOW_77, TotaalDiefstalUitWoningSchuurED_78, VernielingMisdrijfTegenOpenbareOrde_79, GeweldsEnSeksueleMisdrijven_80, BedrijfsvestigingenTotaal_81, ALandbouwBosbouwEnVisserij_82, BFNijverheidEnEnergie_83, GIHandelEnHoreca_84, HJVervoerInformatieEnCommunicatie_85, KLFinancieleDienstenOnroerendGoed_86, MNZakelijkeDienstverlening_87, RUCultuurRecreatieOverigeDiensten_88, PersonenautoSTotaal_89, PersonenautoSBrandstofBenzine_90, PersonenautoSOverigeBrandstof_91, PersonenautoSPerHuishouden_92, PersonenautoSNaarOppervlakte_93, Motorfietsen_94, AfstandTotHuisartsenpraktijk_95, AfstandTotGroteSupermarkt_96, AfstandTotKinderdagverblijf_97, AfstandTotSchool_98, ...]\n",
       "Index: []\n",
       "\n",
       "[0 rows x 108 columns]"
      ]
     },
     "execution_count": 65,
     "metadata": {},
     "output_type": "execute_result"
    }
   ],
   "source": [
    "dh_buurt_data_19[dh_buurt_data_19[\"WijkenEnBuurten\"]==\"Parkbuurt oosteinde\"]"
   ]
  },
  {
   "cell_type": "code",
   "execution_count": 67,
   "metadata": {},
   "outputs": [],
   "source": [
    "housing_data = dh_buurt_data_19[['WijkenEnBuurten','GemiddeldeHuishoudensgrootte_32','Woningvoorraad_34',\n",
    " 'GemiddeldeWoningwaarde_35','PercentageBewoond_38','PercentageOnbewoond_39',\n",
    " 'Koopwoningen_40','HuurwoningenTotaal_41','InBezitWoningcorporatie_42',\n",
    " 'InBezitOverigeVerhuurders_43']].rename(columns={'WijkenEnBuurten':'buurtname'}).merge(buurt_code, left_on='buurtname',\n",
    "                                right_on='BUURTNAAM').set_index(\"BUURTCODE\").drop(\"BUURTNAAM\",axis=1)"
   ]
  },
  {
   "cell_type": "code",
   "execution_count": 68,
   "metadata": {},
   "outputs": [],
   "source": [
    "housing_data = housing_data.rename(columns={'GemiddeldeHuishoudensgrootte_32':\"avg_household_size\",\"Woningvoorraad_34\":\"houses\",\"GemiddeldeWoningwaarde_35\":\"avg_price\",\"PercentageBewoond_38\":\"p_occupied\",\"PercentageOnbewoond_39\":\"p_free\",\"Koopwoningen_40\":\"bought_houses\",\"HuurwoningenTotaal_41\":\"rented_houses\",\"InBezitWoningcorporatie_42\":\"rent_corp\",\"InBezitOverigeVerhuurders_43\":\"rent_private\"}).sort_index()"
   ]
  },
  {
   "cell_type": "code",
   "execution_count": 70,
   "metadata": {},
   "outputs": [],
   "source": [
    "housing_data.fillna(0).to_csv(\"output/housing_data.csv\")"
   ]
  },
  {
   "cell_type": "code",
   "execution_count": 70,
   "metadata": {},
   "outputs": [],
   "source": [
    "income_data = income_17[[\"Buurten\",\"Gem. persoonlijk 52 weken inkomen individuen|2017\"]].drop(index=114)"
   ]
  },
  {
   "cell_type": "code",
   "execution_count": 72,
   "metadata": {},
   "outputs": [],
   "source": [
    "income_data[\"Buurten\"] = income_data[\"Buurten\"].str.extract('(\\d+)', expand=False).astype(\"int64\")"
   ]
  },
  {
   "cell_type": "code",
   "execution_count": 76,
   "metadata": {},
   "outputs": [],
   "source": [
    "income_data = income_data.merge(buurt_code, left_on='Buurten',right_on='BUURTCODE',validate=\"1:1\").drop(columns=\"Buurten\").set_index(\"BUURTCODE\")"
   ]
  },
  {
   "cell_type": "code",
   "execution_count": 79,
   "metadata": {},
   "outputs": [],
   "source": [
    "income_data = income_data.rename(columns={\"Gem. persoonlijk 52 weken inkomen individuen|2017\":\"income\"})"
   ]
  },
  {
   "cell_type": "code",
   "execution_count": 80,
   "metadata": {},
   "outputs": [],
   "source": [
    "income_data.fillna(0).to_csv(\"output/income_data.csv\")"
   ]
  },
  {
   "cell_type": "code",
   "execution_count": null,
   "metadata": {},
   "outputs": [],
   "source": [
    "pd.DataFrame(sorted(buurt_code[\"BUURTCODE\"])).to_csv(\"output/buurtcodes.csv\")"
   ]
  },
  {
   "cell_type": "code",
   "execution_count": 144,
   "metadata": {},
   "outputs": [],
   "source": [
    "new = pd.DataFrame()\n",
    "new[\"income\"] = income_data[\"income\"]\n",
    "new[\"price\"] = housing_data[\"avg_price\"]*1000"
   ]
  },
  {
   "cell_type": "code",
   "execution_count": 163,
   "metadata": {},
   "outputs": [],
   "source": [
    "newer = new.dropna()"
   ]
  },
  {
   "cell_type": "code",
   "execution_count": 164,
   "metadata": {},
   "outputs": [
    {
     "data": {
      "text/plain": [
       "LinregressResult(slope=9.353958450121073, intercept=-68248.85211589467, rvalue=0.9492772472690186, pvalue=1.486652711891984e-52, stderr=0.3083045201472192)"
      ]
     },
     "execution_count": 164,
     "metadata": {},
     "output_type": "execute_result"
    }
   ],
   "source": [
    "from scipy.stats import linregress\n",
    "x = newer[\"income\"]\n",
    "y = newer[\"price\"]\n",
    "\n",
    "linregress(x,y)"
   ]
  },
  {
   "cell_type": "code",
   "execution_count": 166,
   "metadata": {
    "scrolled": true
   },
   "outputs": [
    {
     "data": {
      "text/plain": [
       "[<matplotlib.lines.Line2D at 0x2b021d50dc8>,\n",
       " <matplotlib.lines.Line2D at 0x2b021d67f48>]"
      ]
     },
     "execution_count": 166,
     "metadata": {},
     "output_type": "execute_result"
    },
    {
     "data": {
      "image/png": "[encoded data removed]",
      "text/plain": [
       "<Figure size 432x288 with 1 Axes>"
      ]
     },
     "metadata": {
      "needs_background": "light"
     },
     "output_type": "display_data"
    }
   ],
   "source": [
    "coef = np.polyfit(x,y,1)\n",
    "poly1d_fn = np.poly1d(coef) \n",
    "# poly1d_fn is now a function which takes in x and returns an estimate for y\n",
    "\n",
    "plt.plot(x,y, 'yo', x, poly1d_fn(x), '--k')"
   ]
  },
  {
   "cell_type": "code",
   "execution_count": 168,
   "metadata": {},
   "outputs": [
    {
     "data": {
      "text/plain": [
       "poly1d([ 9.35395845e+00, -6.82488521e+04])"
      ]
     },
     "execution_count": 168,
     "metadata": {},
     "output_type": "execute_result"
    }
   ],
   "source": [
    "#Looking at the fitted line, a correlation factor of 9.35 is found between income and house value\n",
    "poly1d_fn"
   ]
  },
  {
   "cell_type": "code",
   "execution_count": null,
   "metadata": {},
   "outputs": [],
   "source": []
  }
 ],
 "metadata": {
  "kernelspec": {
   "display_name": "Python 3",
   "language": "python",
   "name": "python3"
  },
  "language_info": {
   "codemirror_mode": {
    "name": "ipython",
    "version": 3
   },
   "file_extension": ".py",
   "mimetype": "text/x-python",
   "name": "python",
   "nbconvert_exporter": "python",
   "pygments_lexer": "ipython3",
   "version": "3.7.4"
  }
 },
 "nbformat": 4,
 "nbformat_minor": 2
}
