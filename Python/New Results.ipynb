{
 "cells": [
  {
   "cell_type": "code",
   "execution_count": 2,
   "metadata": {},
   "outputs": [],
   "source": [
    "# import necessary packages\n",
    "import os\n",
    "import matplotlib.pyplot as plt\n",
    "import pandas as pd\n",
    "import numpy as np\n",
    "import seaborn as sns\n",
    "import plotly.express as px\n",
    "import geopandas as gpd\n",
    "from descartes import PolygonPatch\n",
    "from tqdm import tqdm"
   ]
  },
  {
   "cell_type": "code",
   "execution_count": 3,
   "metadata": {},
   "outputs": [],
   "source": [
    "df = pd.read_csv(\"../../Raw_Data/full-run-aggregation-20-table.zip\",skiprows=6)"
   ]
  },
  {
   "cell_type": "code",
   "execution_count": 5,
   "metadata": {},
   "outputs": [],
   "source": [
    "#remove all the columns that have the same value in all rows.\n",
    "for c in df.columns:\n",
    "    if len(df[c].unique()) < 2:\n",
    "        df = df.drop(columns=c)"
   ]
  },
  {
   "cell_type": "code",
   "execution_count": 27,
   "metadata": {},
   "outputs": [],
   "source": [
    "#remove all rows with no data, these are usually the rows at the start of a run.\n",
    "l = []\n",
    "for r in df.index:\n",
    "    if len(df.iloc[r,8:].astype(str).unique())<2:\n",
    "        l.append(r)\n",
    "\n",
    "df = df.drop(index=l)"
   ]
  },
  {
   "cell_type": "code",
   "execution_count": 8,
   "metadata": {},
   "outputs": [],
   "source": [
    "#I found this code to make dict from long list.\n",
    "def listToDict(lst):\n",
    "    op = {lst[i]: lst[i + 1] for i in range(0, len(lst), 2)}\n",
    "    return op"
   ]
  },
  {
   "cell_type": "code",
   "execution_count": 28,
   "metadata": {},
   "outputs": [
    {
     "data": {
      "text/plain": [
       "(81920, 30)"
      ]
     },
     "execution_count": 28,
     "metadata": {},
     "output_type": "execute_result"
    }
   ],
   "source": [
    "df.shape"
   ]
  },
  {
   "cell_type": "code",
   "execution_count": 29,
   "metadata": {},
   "outputs": [
    {
     "name": "stderr",
     "output_type": "stream",
     "text": [
      "  0%|                                                                     | 81920/69696969 [53:36<759:20:22, 25.47it/s]\n"
     ]
    }
   ],
   "source": [
    "#This will take two eons of time, please don't run this code unless you really need to.\n",
    "steps = []\n",
    "n_steps = 69696969\n",
    "for index, row in tqdm(df.iloc[:n_steps,:].iterrows(), total=n_steps):\n",
    "    l = []\n",
    "    for column in df.columns[:10]:\n",
    "        x = row[column]\n",
    "        new_df = pd.DataFrame(index=np.arange(0,114), columns=[column])\n",
    "        new_df[column] = x\n",
    "        l.append(new_df)\n",
    "    for column in df.columns[10:]:\n",
    "        x = row[column].replace(\"[\",\"\").replace(\"]\",\"\").split(\" \")\n",
    "        d = listToDict(x)\n",
    "        new_df = pd.DataFrame(index=np.arange(0, len(d)), columns=['Neighborhood number', column])\n",
    "        new_df['Neighborhood number'] = [*d]\n",
    "        new_df[column] = list(d.values())\n",
    "        l.append(new_df)\n",
    "    steps.append(pd.concat(l, axis=1))\n",
    "full_df = pd.concat(steps).loc[:,~pd.concat(steps).columns.duplicated()].convert_dtypes()"
   ]
  },
  {
   "cell_type": "code",
   "execution_count": 30,
   "metadata": {},
   "outputs": [],
   "source": [
    "full_df = full_df.astype(float)"
   ]
  },
  {
   "cell_type": "code",
   "execution_count": 32,
   "metadata": {},
   "outputs": [],
   "source": [
    "full_df.to_csv(\"../../Raw_Data/full_df.csv\")"
   ]
  },
  {
   "cell_type": "code",
   "execution_count": null,
   "metadata": {},
   "outputs": [],
   "source": []
  }
 ],
 "metadata": {
  "kernelspec": {
   "display_name": "Python 3",
   "language": "python",
   "name": "python3"
  },
  "language_info": {
   "codemirror_mode": {
    "name": "ipython",
    "version": 3
   },
   "file_extension": ".py",
   "mimetype": "text/x-python",
   "name": "python",
   "nbconvert_exporter": "python",
   "pygments_lexer": "ipython3",
   "version": "3.7.4"
  }
 },
 "nbformat": 4,
 "nbformat_minor": 4
}
