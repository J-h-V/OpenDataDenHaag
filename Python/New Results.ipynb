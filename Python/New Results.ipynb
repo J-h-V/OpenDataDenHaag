{
 "cells": [
  {
   "cell_type": "code",
   "execution_count": 2,
   "metadata": {},
   "outputs": [],
   "source": [
    "# import necessary packages\n",
    "import os\n",
    "import matplotlib.pyplot as plt\n",
    "import pandas as pd\n",
    "import numpy as np\n",
    "import seaborn as sns\n",
    "import plotly.express as px\n",
    "import geopandas as gpd\n",
    "from descartes import PolygonPatch\n",
    "from tqdm import tqdm"
   ]
  },
  {
   "cell_type": "code",
   "execution_count": 41,
   "metadata": {},
   "outputs": [],
   "source": [
    "df = pd.read_csv(\"../../Raw_Data/full-run-aggregation-20-table.zip\",skiprows=6)"
   ]
  },
  {
   "cell_type": "code",
   "execution_count": 68,
   "metadata": {},
   "outputs": [],
   "source": [
    "df_transform = pd.read_csv(\"data/policy-transform-table.zip\",skiprows=6)\n",
    "df_health = pd.read_csv(\"data/policy-health-table.zip\",skiprows=6)\n",
    "df_social = pd.read_csv(\"data/policy-social-table.zip\",skiprows=6)\n",
    "df_build = pd.read_csv(\"data/policy-build-table.zip\",skiprows=6)\n",
    "df_mixed = pd.read_csv(\"data/policy-mixed-table.zip\",skiprows=6)\n",
    "df_security = pd.read_csv(\"data/policy-security-table.zip\",skiprows=6)"
   ]
  },
  {
   "cell_type": "code",
   "execution_count": 69,
   "metadata": {},
   "outputs": [],
   "source": [
    "def del_c(data):\n",
    "    ls = []\n",
    "    for c in data.columns:\n",
    "        if len(data[c].unique()) < 2:\n",
    "            ls.append(c)\n",
    "    return ls"
   ]
  },
  {
   "cell_type": "code",
   "execution_count": 70,
   "metadata": {},
   "outputs": [],
   "source": [
    "#remove all the columns that have the same value in all rows.\n",
    "#df = df.drop(columns=del_c(df))\n",
    "df_transform = df_transform.drop(columns=del_c(df_transform))\n",
    "df_health = df_health.drop(columns=del_c(df_health))\n",
    "df_social = df_social.drop(columns=del_c(df_social))\n",
    "df_build = df_build.drop(columns=del_c(df_build))\n",
    "df_mixed = df_mixed.drop(columns=del_c(df_mixed))\n",
    "df_security = df_security.drop(columns=del_c(df_security))"
   ]
  },
  {
   "cell_type": "code",
   "execution_count": 71,
   "metadata": {},
   "outputs": [],
   "source": [
    "def del_r(data):\n",
    "    ls = []\n",
    "    for r in data.index:\n",
    "        if len(data.iloc[r,8:].astype(str).unique())<2:\n",
    "            ls.append(r)\n",
    "    return ls"
   ]
  },
  {
   "cell_type": "code",
   "execution_count": 72,
   "metadata": {},
   "outputs": [],
   "source": [
    "#remove all rows with no data, these are usually the rows at the start of a run.\n",
    "#df = df.drop(index=del_r(df))\n",
    "df_transform = df_transform.drop(index=del_r(df_transform))\n",
    "df_health = df_health.drop(index=del_r(df_health))\n",
    "df_social = df_social.drop(index=del_r(df_social))\n",
    "df_build = df_build.drop(index=del_r(df_build))\n",
    "df_mixed = df_mixed.drop(index=del_r(df_mixed))\n",
    "df_security = df_security.drop(index=del_r(df_security))"
   ]
  },
  {
   "cell_type": "code",
   "execution_count": 73,
   "metadata": {},
   "outputs": [],
   "source": [
    "#I found this code to make dict from long list.\n",
    "def listToDict(lst):\n",
    "    op = {lst[i]: lst[i + 1] for i in range(0, len(lst), 2)}\n",
    "    return op"
   ]
  },
  {
   "cell_type": "code",
   "execution_count": 74,
   "metadata": {},
   "outputs": [],
   "source": [
    "#This will take two eons of time, please don't run this code unless you really need to.\n",
    "def calc_df(data,coln):\n",
    "    steps = []\n",
    "    n_steps = data.shape[0]+1\n",
    "    for index, row in tqdm(data.iloc[:n_steps,:].iterrows(), total=n_steps):\n",
    "        l = []\n",
    "        for column in data.columns[:coln]:\n",
    "            x = row[column]\n",
    "            new_df = pd.DataFrame(index=np.arange(0,114), columns=[column])\n",
    "            new_df[column] = x\n",
    "            l.append(new_df)\n",
    "        for column in data.columns[coln:]:\n",
    "            x = row[column].replace(\"[\",\"\").replace(\"]\",\"\").split(\" \")\n",
    "            d = listToDict(x)\n",
    "            new_df = pd.DataFrame(index=np.arange(0, len(d)), columns=['Neighborhood number', column])\n",
    "            new_df['Neighborhood number'] = [*d]\n",
    "            new_df[column] = list(d.values())\n",
    "            l.append(new_df)\n",
    "        steps.append(pd.concat(l, axis=1))\n",
    "    return steps"
   ]
  },
  {
   "cell_type": "code",
   "execution_count": 75,
   "metadata": {
    "scrolled": true
   },
   "outputs": [],
   "source": [
    "# steps = calc_df(df,10)\n",
    "# full_df = pd.concat(steps).loc[:,~pd.concat(steps).columns.duplicated()].convert_dtypes()\n",
    "# full_df = full_df.astype(float)"
   ]
  },
  {
   "cell_type": "code",
   "execution_count": 76,
   "metadata": {},
   "outputs": [
    {
     "name": "stderr",
     "output_type": "stream",
     "text": [
      "100%|█████████████████████████████████████████████████████████████████████████████▉| 2560/2561 [01:25<00:00, 30.02it/s]\n"
     ]
    }
   ],
   "source": [
    "steps = calc_df(df_transform,5)\n",
    "full_df_transform = pd.concat(steps).loc[:,~pd.concat(steps).columns.duplicated()].convert_dtypes()\n",
    "full_df_transform = full_df_transform.astype(float)"
   ]
  },
  {
   "cell_type": "code",
   "execution_count": 77,
   "metadata": {},
   "outputs": [
    {
     "name": "stderr",
     "output_type": "stream",
     "text": [
      "100%|█████████████████████████████████████████████████████████████████████████████▉| 2560/2561 [01:38<00:00, 26.12it/s]\n"
     ]
    }
   ],
   "source": [
    "steps = calc_df(df_health,5)\n",
    "full_df_health = pd.concat(steps).loc[:,~pd.concat(steps).columns.duplicated()].convert_dtypes()\n",
    "full_df_health = full_df_health.astype(float)"
   ]
  },
  {
   "cell_type": "code",
   "execution_count": 78,
   "metadata": {},
   "outputs": [
    {
     "name": "stderr",
     "output_type": "stream",
     "text": [
      "100%|█████████████████████████████████████████████████████████████████████████████▉| 2560/2561 [01:22<00:00, 30.89it/s]\n"
     ]
    }
   ],
   "source": [
    "steps = calc_df(df_social,5)\n",
    "full_df_social = pd.concat(steps).loc[:,~pd.concat(steps).columns.duplicated()].convert_dtypes()\n",
    "full_df_social = full_df_social.astype(float)"
   ]
  },
  {
   "cell_type": "code",
   "execution_count": 79,
   "metadata": {},
   "outputs": [
    {
     "name": "stderr",
     "output_type": "stream",
     "text": [
      "100%|█████████████████████████████████████████████████████████████████████████████▉| 2560/2561 [01:24<00:00, 30.43it/s]\n"
     ]
    }
   ],
   "source": [
    "steps = calc_df(df_build,5)\n",
    "full_df_build = pd.concat(steps).loc[:,~pd.concat(steps).columns.duplicated()].convert_dtypes()\n",
    "full_df_build = full_df_build.astype(float)"
   ]
  },
  {
   "cell_type": "code",
   "execution_count": 80,
   "metadata": {},
   "outputs": [
    {
     "name": "stderr",
     "output_type": "stream",
     "text": [
      "100%|█████████████████████████████████████████████████████████████████████████████▉| 2560/2561 [01:23<00:00, 30.79it/s]\n"
     ]
    }
   ],
   "source": [
    "steps = calc_df(df_mixed,5)\n",
    "full_df_mixed = pd.concat(steps).loc[:,~pd.concat(steps).columns.duplicated()].convert_dtypes()\n",
    "full_df_mixed = full_df_mixed.astype(float)"
   ]
  },
  {
   "cell_type": "code",
   "execution_count": 81,
   "metadata": {},
   "outputs": [
    {
     "name": "stderr",
     "output_type": "stream",
     "text": [
      "100%|█████████████████████████████████████████████████████████████████████████████▉| 2560/2561 [01:23<00:00, 30.79it/s]\n"
     ]
    }
   ],
   "source": [
    "steps = calc_df(df_security,5)\n",
    "full_df_security = pd.concat(steps).loc[:,~pd.concat(steps).columns.duplicated()].convert_dtypes()\n",
    "full_df_security = full_df_security.astype(float)"
   ]
  },
  {
   "cell_type": "code",
   "execution_count": 32,
   "metadata": {},
   "outputs": [],
   "source": [
    "full_df.to_csv(\"../../Raw_Data/full_df.csv\")"
   ]
  },
  {
   "cell_type": "code",
   "execution_count": 82,
   "metadata": {},
   "outputs": [],
   "source": [
    "full_df_transform.to_csv(\"../../Raw_Data/full_df_transform.csv\")\n",
    "full_df_health.to_csv(\"../../Raw_Data/full_df_health.csv\")\n",
    "full_df_social.to_csv(\"../../Raw_Data/full_df_social.csv\")\n",
    "full_df_build.to_csv(\"../../Raw_Data/full_df_build.csv\")\n",
    "full_df_mixed.to_csv(\"../../Raw_Data/full_df_mixed.csv\")\n",
    "full_df_security.to_csv(\"../../Raw_Data/full_df_security.csv\")"
   ]
  },
  {
   "cell_type": "code",
   "execution_count": null,
   "metadata": {},
   "outputs": [],
   "source": []
  }
 ],
 "metadata": {
  "kernelspec": {
   "display_name": "Python 3",
   "language": "python",
   "name": "python3"
  },
  "language_info": {
   "codemirror_mode": {
    "name": "ipython",
    "version": 3
   },
   "file_extension": ".py",
   "mimetype": "text/x-python",
   "name": "python",
   "nbconvert_exporter": "python",
   "pygments_lexer": "ipython3",
   "version": "3.7.4"
  }
 },
 "nbformat": 4,
 "nbformat_minor": 4
}
