{
 "cells": [
  {
   "cell_type": "code",
   "execution_count": 1,
   "metadata": {},
   "outputs": [],
   "source": [
    "# import necessary packages\n",
    "import os\n",
    "import matplotlib.pyplot as plt\n",
    "import pandas as pd\n",
    "import numpy as np\n",
    "import seaborn as sns\n",
    "import plotly.express as px\n",
    "import geopandas as gpd\n",
    "from descartes import PolygonPatch\n",
    "from tqdm import tqdm"
   ]
  },
  {
   "cell_type": "code",
   "execution_count": 2,
   "metadata": {},
   "outputs": [],
   "source": [
    "df1 = pd.read_csv(\"data/full_run_1.zip\",skiprows=6)\n",
    "df2 = pd.read_csv(\"data/full_run_2.zip\",skiprows=6)\n",
    "df3 = pd.read_csv(\"data/full_run_3.zip\",skiprows=6)\n",
    "df4 = pd.read_csv(\"data/full_run_4.zip\",skiprows=6)"
   ]
  },
  {
   "cell_type": "code",
   "execution_count": 5,
   "metadata": {},
   "outputs": [
    {
     "name": "stdout",
     "output_type": "stream",
     "text": [
      "(10496, 42)\n",
      "(10496, 42)\n",
      "(10496, 42)\n",
      "(11808, 42)\n"
     ]
    }
   ],
   "source": [
    "for dfs in [df1,df2,df3,df4]:\n",
    "    print(dfs.shape)"
   ]
  },
  {
   "cell_type": "code",
   "execution_count": 26,
   "metadata": {},
   "outputs": [],
   "source": [
    "#remove all rows with no data, these are usually the rows at the start of a run.\n",
    "#make sure to change the numbers here, so df1-df4 are done. A for loop doesn't work here!\n",
    "l = []\n",
    "for r in df4.index:\n",
    "    if len(df4.iloc[r,22:].unique())<2:\n",
    "        l.append(r)\n",
    "\n",
    "df4 = df4.drop(index=l)"
   ]
  },
  {
   "cell_type": "code",
   "execution_count": 6,
   "metadata": {},
   "outputs": [
    {
     "data": {
      "text/plain": [
       "(43296, 42)"
      ]
     },
     "execution_count": 6,
     "metadata": {},
     "output_type": "execute_result"
    }
   ],
   "source": [
    "df = pd.concat([df1,df2,df3,df4],0)\n",
    "df.shape"
   ]
  },
  {
   "cell_type": "code",
   "execution_count": 32,
   "metadata": {},
   "outputs": [],
   "source": [
    "#I found this code to make dict from long list.\n",
    "def listToDict(lst):\n",
    "    op = {lst[i]: lst[i + 1] for i in range(0, len(lst), 2)}\n",
    "    return op"
   ]
  },
  {
   "cell_type": "code",
   "execution_count": 34,
   "metadata": {},
   "outputs": [
    {
     "name": "stderr",
     "output_type": "stream",
     "text": [
      "  0%|                                                                | 42240/6969696969 [37:05<101982:52:48, 18.98it/s]\n"
     ]
    }
   ],
   "source": [
    "#This will take two eons of time, please don't run this code unless you really need to.\n",
    "steps = []\n",
    "n_steps = 6969696969 \n",
    "for index, row in tqdm(df.iloc[:n_steps,:].iterrows(), total=n_steps):\n",
    "    l = []\n",
    "    for column in df.columns[:22]:\n",
    "        x = row[column]\n",
    "        new_df = pd.DataFrame(index=np.arange(0,114), columns=[column])\n",
    "        new_df[column] = x\n",
    "        l.append(new_df)\n",
    "    for column in df.columns[22:]:\n",
    "        x = row[column].replace(\"[\",\"\").replace(\"]\",\"\").split(\" \")\n",
    "        d = listToDict(x)\n",
    "        new_df = pd.DataFrame(index=np.arange(0, len(d)), columns=['Neighborhood number', column])\n",
    "        new_df['Neighborhood number'] = [*d]\n",
    "        new_df[column] = list(d.values())\n",
    "        l.append(new_df)\n",
    "        # empty_df.loc[index, column] = x\n",
    "    steps.append(pd.concat(l, axis=1))"
   ]
  },
  {
   "cell_type": "code",
   "execution_count": 35,
   "metadata": {},
   "outputs": [],
   "source": [
    "full_df = pd.concat(steps).loc[:,~pd.concat(steps).columns.duplicated()].convert_dtypes()"
   ]
  },
  {
   "cell_type": "code",
   "execution_count": 36,
   "metadata": {},
   "outputs": [
    {
     "data": {
      "text/plain": [
       "[run number]                          Int64\n",
       "size-of-std                         float64\n",
       "transform-houses?                   boolean\n",
       "avg_migrant_income                    Int64\n",
       "amount-of-health-improved             Int64\n",
       "aggregate-cluster-size                Int64\n",
       "improve-health?                     boolean\n",
       "amount-of-mixed-nhs                   Int64\n",
       "citizen-color                        string\n",
       "build-percent                       float64\n",
       "amount-of-safety-improved             Int64\n",
       "recolor-agents?                     boolean\n",
       "increase-social-housing?            boolean\n",
       "build-more-houses?                  boolean\n",
       "random-attributes?                  boolean\n",
       "increase-percent                      Int64\n",
       "housing-market-inflation?           boolean\n",
       "transformed-percentage                Int64\n",
       "migrant-multiplier                  float64\n",
       "mixed-use-zoning?                   boolean\n",
       "improve-safety?                     boolean\n",
       "[step]                                Int64\n",
       "Neighborhood number                  string\n",
       "KPI-available_buy_houses             string\n",
       "KPI-available_part_rent_houses       string\n",
       "KPI-available_social_rent_houses     string\n",
       "KPI-avg_income                       string\n",
       "KPI-avg_price                        string\n",
       "KPI-avg_utility                      string\n",
       "KPI-citizen-count                    string\n",
       "KPI-p-sc-lower                       string\n",
       "KPI-p-sc-working                     string\n",
       "KPI-p-sc-middle                      string\n",
       "KPI-p-sc-upper                       string\n",
       "KPI-p-dutch                          string\n",
       "KPI-p-other-western                  string\n",
       "KPI-p-antilles                       string\n",
       "KPI-p-morocco                        string\n",
       "KPI-p-suriname                       string\n",
       "KPI-p-turkey                         string\n",
       "KPI-p-indonesian                     string\n",
       "KPI-p-eastern-eu                     string\n",
       "KPI-p-other-nonwestern               string\n",
       "dtype: object"
      ]
     },
     "execution_count": 36,
     "metadata": {},
     "output_type": "execute_result"
    }
   ],
   "source": [
    "full_df.dtypes"
   ]
  },
  {
   "cell_type": "code",
   "execution_count": 40,
   "metadata": {},
   "outputs": [],
   "source": [
    "full_df = full_df.astype({'Neighborhood number' : int,\n",
    "       'KPI-available_buy_houses' : int, 'KPI-available_part_rent_houses' : float,\n",
    "       'KPI-available_social_rent_houses' : int, 'KPI-avg_income' : float, 'KPI-avg_price' : float,\n",
    "       'KPI-avg_utility' : float, 'KPI-citizen-count' : int, 'KPI-p-sc-lower' : float,\n",
    "       'KPI-p-sc-working' : float, 'KPI-p-sc-middle' : float, 'KPI-p-sc-upper' : float, 'KPI-p-dutch' : float,\n",
    "       'KPI-p-other-western' : float, 'KPI-p-antilles' : float, 'KPI-p-morocco' : float,\n",
    "       'KPI-p-suriname' : float, 'KPI-p-turkey' : float, 'KPI-p-indonesian' : float,\n",
    "       'KPI-p-eastern-eu' : float, 'KPI-p-other-nonwestern' : float})"
   ]
  },
  {
   "cell_type": "code",
   "execution_count": 43,
   "metadata": {},
   "outputs": [],
   "source": [
    "#remove all the columns that have the same value in all rows.\n",
    "for c in full_df.columns:\n",
    "    if len(full_df[c].unique()) < 2:\n",
    "        full_df = full_df.drop(columns=c)"
   ]
  },
  {
   "cell_type": "code",
   "execution_count": 47,
   "metadata": {},
   "outputs": [],
   "source": [
    "full_df.to_csv(\"output/full_df.csv\")"
   ]
  },
  {
   "cell_type": "code",
   "execution_count": null,
   "metadata": {},
   "outputs": [],
   "source": []
  }
 ],
 "metadata": {
  "kernelspec": {
   "display_name": "Python 3",
   "language": "python",
   "name": "python3"
  },
  "language_info": {
   "codemirror_mode": {
    "name": "ipython",
    "version": 3
   },
   "file_extension": ".py",
   "mimetype": "text/x-python",
   "name": "python",
   "nbconvert_exporter": "python",
   "pygments_lexer": "ipython3",
   "version": "3.7.4"
  }
 },
 "nbformat": 4,
 "nbformat_minor": 4
}
